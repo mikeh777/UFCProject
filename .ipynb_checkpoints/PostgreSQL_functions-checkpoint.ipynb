{
 "cells": [
  {
   "cell_type": "code",
   "execution_count": 14,
   "metadata": {},
   "outputs": [],
   "source": [
    "import pandas as pd\n",
    "import pandas.io.sql as sqlio\n",
    "import psycopg2\n",
    "\n",
    "#config method from config.py file\n",
    "from config import config\n",
    "\n"
   ]
  },
  {
   "cell_type": "code",
   "execution_count": 16,
   "metadata": {},
   "outputs": [
    {
     "name": "stdout",
     "output_type": "stream",
     "text": [
      "Connection Established\n",
      "Finished dropping table (if existed)\n",
      "Finished creating table\n",
      "Rows Output from fetchall() : {} [(1, 'banana', 150)]\n",
      "Data Row = 1, banana, 150\n"
     ]
    }
   ],
   "source": [
    "params = config(\"database.ini\")\n",
    "\n",
    "\n",
    "#**param replaces the following\n",
    "#conn_string = \"host={0} user={1} dbname={2} password={3} sslmode={4}\".format(host, user, dbname, password, sslmode)\n",
    "conn = psycopg2.connect(**params)\n",
    "print(\"Connection Established\")\n",
    "\n",
    "cursor = conn.cursor()\n",
    "\n",
    "#Drop previous table of same name if one exists\n",
    "cursor.execute(\"DROP TABLE IF EXISTS inventory;\")\n",
    "print(\"Finished dropping table (if existed)\")\n",
    "\n",
    "#create a table\n",
    "cursor.execute(\"CREATE TABLE inventory (id serial PRIMARY KEY, name VARCHAR(50), quantity INTEGER);\")\n",
    "print(\"Finished creating table\")\n",
    "\n",
    "\n",
    "#insert some data into the table\n",
    "cursor.execute(\"INSERT INTO inventory (name, quantity) VALUES (%s, %s);\", (\"banana\", 150))\n",
    "\n",
    "\n",
    "cursor.execute(\"SELECT * FROM inventory;\")\n",
    "rows = cursor.fetchall()\n",
    "\n",
    "print(\"Rows Output from fetchall() : {}\",format(rows))\n",
    "for row in rows:\n",
    "    print(\"Data Row = {}, {}, {}\".format(str(row[0]), str(row[1]), str(row[2])))\n",
    "\n",
    "\n",
    "\n",
    "'''\n",
    "TODO:\n",
    "Create a table in the database with our information called\n",
    "\n",
    "Write a few methods for inserting rows, deleting rows, altering rows.\n",
    "(will be changing, but could be useful to set up a framework)\n",
    "\n",
    "Write methods for turing pandas into the database and back \n",
    "\n",
    "\n",
    "'''\n",
    "\n",
    "\n",
    "#clean up\n",
    "conn.commit()\n",
    "cursor.close()\n",
    "conn.close()\n",
    "\n"
   ]
  },
  {
   "cell_type": "code",
   "execution_count": null,
   "metadata": {},
   "outputs": [],
   "source": [
    "\n",
    "conn = psycopg2.connect(\"host='{}' port={} dbname='{}' user={} password={}\".format(host, port, dbname, username, pwd))\n",
    "sql = \"select count(*) from table;\"\n",
    "dat = sqlio.read_sql_query(sql, conn)\n",
    "conn = None"
   ]
  }
 ],
 "metadata": {
  "kernelspec": {
   "display_name": "Python 3",
   "language": "python",
   "name": "python3"
  },
  "language_info": {
   "codemirror_mode": {
    "name": "ipython",
    "version": 3
   },
   "file_extension": ".py",
   "mimetype": "text/x-python",
   "name": "python",
   "nbconvert_exporter": "python",
   "pygments_lexer": "ipython3",
   "version": "3.7.7"
  }
 },
 "nbformat": 4,
 "nbformat_minor": 4
}
