{
 "cells": [
  {
   "cell_type": "code",
   "execution_count": 11,
   "metadata": {},
   "outputs": [],
   "source": [
    "import requests\n",
    "from bs4 import BeautifulSoup\n",
    "import pandas as pd\n",
    "import time\n",
    "import random"
   ]
  },
  {
   "cell_type": "code",
   "execution_count": 4,
   "metadata": {},
   "outputs": [],
   "source": [
    "# class WebCrawler():\n",
    "    #eventually make this a class, this will allow better variable management"
   ]
  },
  {
   "cell_type": "code",
   "execution_count": 16,
   "metadata": {},
   "outputs": [],
   "source": [
    "def scrapeFights(url, fighterUrls = [],  finishedFighters = []):\n",
    "    #create a second function to return the list of urls of the related fighters\n",
    "\n",
    "    #Create the frame variables to store\n",
    "    fightsData = pd.DataFrame(columns = [\"Fighter\", \"Result\", \"Opponent\", \"Event\", \"Date\", \"Method\", \"Rounds\", \"Time\"])\n",
    "\n",
    "    page = requests.get(url+urlExtension)  \n",
    "    soup = BeautifulSoup(page.text, \"html.parser\")\n",
    "\n",
    "    fighter = soup.find(\"div\", class_ = \"module bio_fighter vcard\").span.text\n",
    "\n",
    "    evenFights = soup.find_all('tr', class_ = \"even\")\n",
    "    oddFights = soup.find_all('tr', class_ = \"odd\")\n",
    "\n",
    "#     print(\"even fights:\")\n",
    "#     print(type(evenFights))\n",
    "#     print(len(evenFights))\n",
    "\n",
    "#     print(\"\\nodd fights:\")\n",
    "#     print(type(oddFights))\n",
    "#     print(len(oddFights))  \n",
    "\n",
    "    for i in range(len(oddFights)):  \n",
    "\n",
    "        lineResults = oddFights[i].find_all(\"td\")\n",
    "\n",
    "        fightDict, newFighterUrl = getFightDataFromLine(lineResults)\n",
    "        fightDict[\"Fighter\"] = fighter\n",
    "\n",
    "        if newFighterUrl not in fighterUrls:\n",
    "            fighterUrls.append(newFighterUrl)\n",
    "\n",
    "        if fightDict[\"Opponent\"] not in finishedFighters:\n",
    "            fightsData = fightsData.append(fightDict, ignore_index = True)\n",
    "\n",
    "\n",
    "    for i in range(len(evenFights)):  \n",
    "\n",
    "        lineResults = evenFights[i].find_all(\"td\")\n",
    "\n",
    "        fightDict, newFighterUrl = getFightDataFromLine(lineResults)\n",
    "        fightDict[\"Fighter\"] = fighter\n",
    "\n",
    "        if newFighterUrl not in fighterUrls:\n",
    "            fighterUrls.append(newFighterUrl)\n",
    "\n",
    "        if fightDict[\"Opponent\"] not in finishedFighters:\n",
    "            fightsData = fightsData.append(fightDict, ignore_index = True)\n",
    "\n",
    "            \n",
    "#     print(fightsData.head())\n",
    "#     print(fighterUrls)\n",
    "   \n",
    "    return fighter, fightsData, fighterUrls\n",
    "\n"
   ]
  },
  {
   "cell_type": "code",
   "execution_count": 17,
   "metadata": {},
   "outputs": [],
   "source": [
    "def getFightDataFromLine(fightLine):\n",
    "        \n",
    "    result = fightLine[0].text\n",
    "    opponent = fightLine[1].text\n",
    "    event = fightLine[2].span.text\n",
    "    date = fightLine[2].find(class_ = \"sub_line\").text\n",
    "    method = fightLine[3].contents[0]\n",
    "    rounds = fightLine[4].text\n",
    "    time = fightLine[5].text\n",
    "    \n",
    "    newfighterUrl = fightLine[1].a.get(\"href\")\n",
    "\n",
    "        \n",
    "    return({\"Result\" : result,\n",
    "                    \"Opponent\" : opponent,\n",
    "                    \"Event\" : event,\n",
    "                    \"Date\" : date,\n",
    "                    \"Method\" : method,\n",
    "                    \"Rounds\" : rounds,\n",
    "                    \"Time\": time}, newfighterUrl)"
   ]
  },
  {
   "cell_type": "code",
   "execution_count": 27,
   "metadata": {},
   "outputs": [
    {
     "name": "stdout",
     "output_type": "stream",
     "text": [
      "waiting 4 seconds\n",
      "going to URl: https://www.sherdog.com/fighter/Yaroslav-Amosov-104911\n",
      "waiting 7 seconds\n",
      "going to URl: https://www.sherdog.com/fighter/Ed-Ruth-197807\n",
      "waiting 7 seconds\n",
      "going to URl: https://www.sherdog.com/fighter/Erick-Silva-15009\n",
      "waiting 10 seconds\n",
      "going to URl: https://www.sherdog.com/fighter/Nathan-Oliveira-182697\n"
     ]
    }
   ],
   "source": [
    "fullFightsData = pd.DataFrame(columns = [\"Fighter\", \"Result\", \"Opponent\", \"Event\", \"Date\", \"Method\", \"Rounds\", \"Time\"])\n",
    "fullFighterUrls = []\n",
    "finishedFighters = []\n",
    "\n",
    "url = \"https://www.sherdog.com\"\n",
    "urlExtension = \"/fighter/Yaroslav-Amosov-104911\"\n",
    "\n",
    "\n",
    "\n",
    "\n",
    "for i in range(0,3):\n",
    "    waitTime = random.randint(4, 12)\n",
    "    print(\"waiting {} seconds\".format(waitTime))\n",
    "    print(\"going to URl: {}{}\".format(url, urlExtension))\n",
    "    time.sleep(waitTime)\n",
    "    \n",
    "    individualFighter, individualFightsData, individualFighterUrls = scrapeFights(url+urlExtension, fighterUrls = fullFighterUrls, finishedFighters = finishedFighters)\n",
    "    \n",
    "    \n",
    "\n",
    "    fullFightsData = fullFightsData.append(individualFightsData)\n",
    "    fullFighterUrls.extend(individualFighterUrls)\n",
    "    finishedFighters.append(individualFighter)\n",
    "\n",
    "    if fullFighterUrls:\n",
    "        urlExtension = fullFighterUrls.pop(0)\n",
    "    \n",
    "\n",
    "# fullFightsData = fullFightsData.append(individualFightsData)\n",
    "# fullFighterUrls.extend(individualFighterUrls)\n",
    "# finishedFighters.append(individualFighter)\n",
    "\n",
    "# print(finishedFighters)\n",
    "# print(fullFighterUrls)\n",
    "# print(fullFightsData)\n",
    "\n"
   ]
  },
  {
   "cell_type": "code",
   "execution_count": 28,
   "metadata": {},
   "outputs": [
    {
     "name": "stdout",
     "output_type": "stream",
     "text": [
      "['Yaroslav Amosov', 'Ed Ruth', 'Erick Silva', 'Nathan Oliveira']\n",
      "['/fighter/Maxim-Konovalov-202919', '/fighter/Diego-Gonzalez-6001', '/fighter/Avtandil-Gachechiladze-190717', '/fighter/Boris-Selanov-175737', '/fighter/Aleksey-Nimirovich-175733', '/fighter/Valeri-Shpak-110981', '/fighter/Vitaliy-Matornika-115137', '/fighter/Vitaliy-Maystrenko-104913', '/fighter/David-Rickels-36198', '/fighter/Gerald-Harris-17903', '/fighter/Diogo-Cavalcanti-72804', '/fighter/Khasanbek-Abdulaev-219187', '/fighter/Islam-Berzegov-209209', '/fighter/Ravil-Risaev-194823', '/fighter/Oleg-Olenichev-148009', '/fighter/Aydin-Aikhan-178029', '/fighter/Andrei-Shalavai-130663', '/fighter/Vadim-Sandulskiy-85135', '/fighter/Artiom-Cula-101431', '/fighter/Ed-Ruth-197807', '/fighter/Erick-Silva-15009', '/fighter/Nathan-Oliveira-182697', '/fighter/Roberto-Soldic-180781', '/fighter/Maxim-Konovalov-202919', '/fighter/Diego-Gonzalez-6001', '/fighter/Avtandil-Gachechiladze-190717', '/fighter/Boris-Selanov-175737', '/fighter/Aleksey-Nimirovich-175733', '/fighter/Valeri-Shpak-110981', '/fighter/Vitaliy-Matornika-115137', '/fighter/Vitaliy-Maystrenko-104913', '/fighter/David-Rickels-36198', '/fighter/Gerald-Harris-17903', '/fighter/Diogo-Cavalcanti-72804', '/fighter/Khasanbek-Abdulaev-219187', '/fighter/Islam-Berzegov-209209', '/fighter/Ravil-Risaev-194823', '/fighter/Oleg-Olenichev-148009', '/fighter/Aydin-Aikhan-178029', '/fighter/Andrei-Shalavai-130663', '/fighter/Vadim-Sandulskiy-85135', '/fighter/Artiom-Cula-101431', '/fighter/Yaroslav-Amosov-104911', '/fighter/Kiichi-Kunimoto-21039', '/fighter/Andy-Murad-8197', '/fighter/Chris-Dempsey-79277', '/fighter/Emanuele-Palombi-199703', '/fighter/Jason-Jackson-48171', '/fighter/Neiman-Gracie-143527', '/fighter/Ion-Pascu-53418', '/fighter/David-Mundell-161205', '/fighter/Dustin-CollinsMiles-237891', '/fighter/Erick-Silva-15009', '/fighter/Nathan-Oliveira-182697', '/fighter/Roberto-Soldic-180781', '/fighter/Maxim-Konovalov-202919', '/fighter/Diego-Gonzalez-6001', '/fighter/Avtandil-Gachechiladze-190717', '/fighter/Boris-Selanov-175737', '/fighter/Aleksey-Nimirovich-175733', '/fighter/Valeri-Shpak-110981', '/fighter/Vitaliy-Matornika-115137', '/fighter/Vitaliy-Maystrenko-104913', '/fighter/David-Rickels-36198', '/fighter/Gerald-Harris-17903', '/fighter/Diogo-Cavalcanti-72804', '/fighter/Khasanbek-Abdulaev-219187', '/fighter/Islam-Berzegov-209209', '/fighter/Ravil-Risaev-194823', '/fighter/Oleg-Olenichev-148009', '/fighter/Aydin-Aikhan-178029', '/fighter/Andrei-Shalavai-130663', '/fighter/Vadim-Sandulskiy-85135', '/fighter/Artiom-Cula-101431', '/fighter/Ed-Ruth-197807', '/fighter/Erick-Silva-15009', '/fighter/Nathan-Oliveira-182697', '/fighter/Roberto-Soldic-180781', '/fighter/Maxim-Konovalov-202919', '/fighter/Diego-Gonzalez-6001', '/fighter/Avtandil-Gachechiladze-190717', '/fighter/Boris-Selanov-175737', '/fighter/Aleksey-Nimirovich-175733', '/fighter/Valeri-Shpak-110981', '/fighter/Vitaliy-Matornika-115137', '/fighter/Vitaliy-Maystrenko-104913', '/fighter/David-Rickels-36198', '/fighter/Gerald-Harris-17903', '/fighter/Diogo-Cavalcanti-72804', '/fighter/Khasanbek-Abdulaev-219187', '/fighter/Islam-Berzegov-209209', '/fighter/Ravil-Risaev-194823', '/fighter/Oleg-Olenichev-148009', '/fighter/Aydin-Aikhan-178029', '/fighter/Andrei-Shalavai-130663', '/fighter/Vadim-Sandulskiy-85135', '/fighter/Artiom-Cula-101431', '/fighter/Yaroslav-Amosov-104911', '/fighter/Kiichi-Kunimoto-21039', '/fighter/Andy-Murad-8197', '/fighter/Chris-Dempsey-79277', '/fighter/Emanuele-Palombi-199703', '/fighter/Jason-Jackson-48171', '/fighter/Neiman-Gracie-143527', '/fighter/Ion-Pascu-53418', '/fighter/David-Mundell-161205', '/fighter/Dustin-CollinsMiles-237891', '/fighter/Paul-Daley-4270', '/fighter/Nick-Barnes-79934', '/fighter/Yancy-Medeiros-27738', '/fighter/Nordine-Taleb-26261', '/fighter/Josh-Koscheck-9418', '/fighter/Matt-Brown-14310', '/fighter/Dong-Hyun-Kim-16374', '/fighter/Jon-Fitch-4865', '/fighter/Carlo-Prater-6767', '/fighter/Francisco-Ayon-17502', '/fighter/Jose-de-Ribamar-Machado-Gomes-25101', '/fighter/Jorge-Luis-Bezerra-17666', '/fighter/Igor-Fernandes-25461', '/fighter/Fabio-Issa-12509', '/fighter/Leandro-Zumbi-20278', '/fighter/Julian-Fabrin-Soares-12305', '/fighter/Jordan-Mein-6749', '/fighter/Luan-Chagas-113505', '/fighter/Neil-Magny-69166', '/fighter/Mike-Rhodes-87296', '/fighter/Takenori-Sato-12196', '/fighter/Jason-High-14185', '/fighter/Charlie-Brenneman-23403', '/fighter/Luis-Ramos-3217', '/fighter/Gil-de-Freitas-16308', '/fighter/Henrique-Gomes-de-Oliveira-35750', '/fighter/Carlos-Villamor-33764', '/fighter/Carlos-Eduardo-Santos-8930', '/fighter/Mario-Neto-76614', '/fighter/Henrique-Lango-2318', '/fighter/Fabiano-Mastodonte-16066', '/fighter/Nathan-Oliveira-182697', '/fighter/Roberto-Soldic-180781', '/fighter/Maxim-Konovalov-202919', '/fighter/Diego-Gonzalez-6001', '/fighter/Avtandil-Gachechiladze-190717', '/fighter/Boris-Selanov-175737', '/fighter/Aleksey-Nimirovich-175733', '/fighter/Valeri-Shpak-110981', '/fighter/Vitaliy-Matornika-115137', '/fighter/Vitaliy-Maystrenko-104913', '/fighter/David-Rickels-36198', '/fighter/Gerald-Harris-17903', '/fighter/Diogo-Cavalcanti-72804', '/fighter/Khasanbek-Abdulaev-219187', '/fighter/Islam-Berzegov-209209', '/fighter/Ravil-Risaev-194823', '/fighter/Oleg-Olenichev-148009', '/fighter/Aydin-Aikhan-178029', '/fighter/Andrei-Shalavai-130663', '/fighter/Vadim-Sandulskiy-85135', '/fighter/Artiom-Cula-101431', '/fighter/Ed-Ruth-197807', '/fighter/Erick-Silva-15009', '/fighter/Nathan-Oliveira-182697', '/fighter/Roberto-Soldic-180781', '/fighter/Maxim-Konovalov-202919', '/fighter/Diego-Gonzalez-6001', '/fighter/Avtandil-Gachechiladze-190717', '/fighter/Boris-Selanov-175737', '/fighter/Aleksey-Nimirovich-175733', '/fighter/Valeri-Shpak-110981', '/fighter/Vitaliy-Matornika-115137', '/fighter/Vitaliy-Maystrenko-104913', '/fighter/David-Rickels-36198', '/fighter/Gerald-Harris-17903', '/fighter/Diogo-Cavalcanti-72804', '/fighter/Khasanbek-Abdulaev-219187', '/fighter/Islam-Berzegov-209209', '/fighter/Ravil-Risaev-194823', '/fighter/Oleg-Olenichev-148009', '/fighter/Aydin-Aikhan-178029', '/fighter/Andrei-Shalavai-130663', '/fighter/Vadim-Sandulskiy-85135', '/fighter/Artiom-Cula-101431', '/fighter/Yaroslav-Amosov-104911', '/fighter/Kiichi-Kunimoto-21039', '/fighter/Andy-Murad-8197', '/fighter/Chris-Dempsey-79277', '/fighter/Emanuele-Palombi-199703', '/fighter/Jason-Jackson-48171', '/fighter/Neiman-Gracie-143527', '/fighter/Ion-Pascu-53418', '/fighter/David-Mundell-161205', '/fighter/Dustin-CollinsMiles-237891', '/fighter/Erick-Silva-15009', '/fighter/Nathan-Oliveira-182697', '/fighter/Roberto-Soldic-180781', '/fighter/Maxim-Konovalov-202919', '/fighter/Diego-Gonzalez-6001', '/fighter/Avtandil-Gachechiladze-190717', '/fighter/Boris-Selanov-175737', '/fighter/Aleksey-Nimirovich-175733', '/fighter/Valeri-Shpak-110981', '/fighter/Vitaliy-Matornika-115137', '/fighter/Vitaliy-Maystrenko-104913', '/fighter/David-Rickels-36198', '/fighter/Gerald-Harris-17903', '/fighter/Diogo-Cavalcanti-72804', '/fighter/Khasanbek-Abdulaev-219187', '/fighter/Islam-Berzegov-209209', '/fighter/Ravil-Risaev-194823', '/fighter/Oleg-Olenichev-148009', '/fighter/Aydin-Aikhan-178029', '/fighter/Andrei-Shalavai-130663', '/fighter/Vadim-Sandulskiy-85135', '/fighter/Artiom-Cula-101431', '/fighter/Ed-Ruth-197807', '/fighter/Erick-Silva-15009', '/fighter/Nathan-Oliveira-182697', '/fighter/Roberto-Soldic-180781', '/fighter/Maxim-Konovalov-202919', '/fighter/Diego-Gonzalez-6001', '/fighter/Avtandil-Gachechiladze-190717', '/fighter/Boris-Selanov-175737', '/fighter/Aleksey-Nimirovich-175733', '/fighter/Valeri-Shpak-110981', '/fighter/Vitaliy-Matornika-115137', '/fighter/Vitaliy-Maystrenko-104913', '/fighter/David-Rickels-36198', '/fighter/Gerald-Harris-17903', '/fighter/Diogo-Cavalcanti-72804', '/fighter/Khasanbek-Abdulaev-219187', '/fighter/Islam-Berzegov-209209', '/fighter/Ravil-Risaev-194823', '/fighter/Oleg-Olenichev-148009', '/fighter/Aydin-Aikhan-178029', '/fighter/Andrei-Shalavai-130663', '/fighter/Vadim-Sandulskiy-85135', '/fighter/Artiom-Cula-101431', '/fighter/Yaroslav-Amosov-104911', '/fighter/Kiichi-Kunimoto-21039', '/fighter/Andy-Murad-8197', '/fighter/Chris-Dempsey-79277', '/fighter/Emanuele-Palombi-199703', '/fighter/Jason-Jackson-48171', '/fighter/Neiman-Gracie-143527', '/fighter/Ion-Pascu-53418', '/fighter/David-Mundell-161205', '/fighter/Dustin-CollinsMiles-237891', '/fighter/Paul-Daley-4270', '/fighter/Nick-Barnes-79934', '/fighter/Yancy-Medeiros-27738', '/fighter/Nordine-Taleb-26261', '/fighter/Josh-Koscheck-9418', '/fighter/Matt-Brown-14310', '/fighter/Dong-Hyun-Kim-16374', '/fighter/Jon-Fitch-4865', '/fighter/Carlo-Prater-6767', '/fighter/Francisco-Ayon-17502', '/fighter/Jose-de-Ribamar-Machado-Gomes-25101', '/fighter/Jorge-Luis-Bezerra-17666', '/fighter/Igor-Fernandes-25461', '/fighter/Fabio-Issa-12509', '/fighter/Leandro-Zumbi-20278', '/fighter/Julian-Fabrin-Soares-12305', '/fighter/Jordan-Mein-6749', '/fighter/Luan-Chagas-113505', '/fighter/Neil-Magny-69166', '/fighter/Mike-Rhodes-87296', '/fighter/Takenori-Sato-12196', '/fighter/Jason-High-14185', '/fighter/Charlie-Brenneman-23403', '/fighter/Luis-Ramos-3217', '/fighter/Gil-de-Freitas-16308', '/fighter/Henrique-Gomes-de-Oliveira-35750', '/fighter/Carlos-Villamor-33764', '/fighter/Carlos-Eduardo-Santos-8930', '/fighter/Mario-Neto-76614', '/fighter/Henrique-Lango-2318', '/fighter/Fabiano-Mastodonte-16066', '/fighter/Julio-Cesar-Araujo-Fernandes-89587', '/fighter/Marcus-Vinicius-193035', '/fighter/Felipe-Alves-108701', '/fighter/Claudio-Junior-214225', '/fighter/Guilherme-Oliveira-182711', '/fighter/Lucas-Costa-Jesus-205341', '/fighter/Alberto-Antonio-142439', '/fighter/Andre-Morais-251087', '/fighter/Vande-Meneguetti-229549', '/fighter/Roberto-Soldic-180781', '/fighter/Maxim-Konovalov-202919', '/fighter/Diego-Gonzalez-6001', '/fighter/Avtandil-Gachechiladze-190717', '/fighter/Boris-Selanov-175737', '/fighter/Aleksey-Nimirovich-175733', '/fighter/Valeri-Shpak-110981', '/fighter/Vitaliy-Matornika-115137', '/fighter/Vitaliy-Maystrenko-104913', '/fighter/David-Rickels-36198', '/fighter/Gerald-Harris-17903', '/fighter/Diogo-Cavalcanti-72804', '/fighter/Khasanbek-Abdulaev-219187', '/fighter/Islam-Berzegov-209209', '/fighter/Ravil-Risaev-194823', '/fighter/Oleg-Olenichev-148009', '/fighter/Aydin-Aikhan-178029', '/fighter/Andrei-Shalavai-130663', '/fighter/Vadim-Sandulskiy-85135', '/fighter/Artiom-Cula-101431', '/fighter/Ed-Ruth-197807', '/fighter/Erick-Silva-15009', '/fighter/Nathan-Oliveira-182697', '/fighter/Roberto-Soldic-180781', '/fighter/Maxim-Konovalov-202919', '/fighter/Diego-Gonzalez-6001', '/fighter/Avtandil-Gachechiladze-190717', '/fighter/Boris-Selanov-175737', '/fighter/Aleksey-Nimirovich-175733', '/fighter/Valeri-Shpak-110981', '/fighter/Vitaliy-Matornika-115137', '/fighter/Vitaliy-Maystrenko-104913', '/fighter/David-Rickels-36198', '/fighter/Gerald-Harris-17903', '/fighter/Diogo-Cavalcanti-72804', '/fighter/Khasanbek-Abdulaev-219187', '/fighter/Islam-Berzegov-209209', '/fighter/Ravil-Risaev-194823', '/fighter/Oleg-Olenichev-148009', '/fighter/Aydin-Aikhan-178029', '/fighter/Andrei-Shalavai-130663', '/fighter/Vadim-Sandulskiy-85135', '/fighter/Artiom-Cula-101431', '/fighter/Yaroslav-Amosov-104911', '/fighter/Kiichi-Kunimoto-21039', '/fighter/Andy-Murad-8197', '/fighter/Chris-Dempsey-79277', '/fighter/Emanuele-Palombi-199703', '/fighter/Jason-Jackson-48171', '/fighter/Neiman-Gracie-143527', '/fighter/Ion-Pascu-53418', '/fighter/David-Mundell-161205', '/fighter/Dustin-CollinsMiles-237891', '/fighter/Erick-Silva-15009', '/fighter/Nathan-Oliveira-182697', '/fighter/Roberto-Soldic-180781', '/fighter/Maxim-Konovalov-202919', '/fighter/Diego-Gonzalez-6001', '/fighter/Avtandil-Gachechiladze-190717', '/fighter/Boris-Selanov-175737', '/fighter/Aleksey-Nimirovich-175733', '/fighter/Valeri-Shpak-110981', '/fighter/Vitaliy-Matornika-115137', '/fighter/Vitaliy-Maystrenko-104913', '/fighter/David-Rickels-36198', '/fighter/Gerald-Harris-17903', '/fighter/Diogo-Cavalcanti-72804', '/fighter/Khasanbek-Abdulaev-219187', '/fighter/Islam-Berzegov-209209', '/fighter/Ravil-Risaev-194823', '/fighter/Oleg-Olenichev-148009', '/fighter/Aydin-Aikhan-178029', '/fighter/Andrei-Shalavai-130663', '/fighter/Vadim-Sandulskiy-85135', '/fighter/Artiom-Cula-101431', '/fighter/Ed-Ruth-197807', '/fighter/Erick-Silva-15009', '/fighter/Nathan-Oliveira-182697', '/fighter/Roberto-Soldic-180781', '/fighter/Maxim-Konovalov-202919', '/fighter/Diego-Gonzalez-6001', '/fighter/Avtandil-Gachechiladze-190717', '/fighter/Boris-Selanov-175737', '/fighter/Aleksey-Nimirovich-175733', '/fighter/Valeri-Shpak-110981', '/fighter/Vitaliy-Matornika-115137', '/fighter/Vitaliy-Maystrenko-104913', '/fighter/David-Rickels-36198', '/fighter/Gerald-Harris-17903', '/fighter/Diogo-Cavalcanti-72804', '/fighter/Khasanbek-Abdulaev-219187', '/fighter/Islam-Berzegov-209209', '/fighter/Ravil-Risaev-194823', '/fighter/Oleg-Olenichev-148009', '/fighter/Aydin-Aikhan-178029', '/fighter/Andrei-Shalavai-130663', '/fighter/Vadim-Sandulskiy-85135', '/fighter/Artiom-Cula-101431', '/fighter/Yaroslav-Amosov-104911', '/fighter/Kiichi-Kunimoto-21039', '/fighter/Andy-Murad-8197', '/fighter/Chris-Dempsey-79277', '/fighter/Emanuele-Palombi-199703', '/fighter/Jason-Jackson-48171', '/fighter/Neiman-Gracie-143527', '/fighter/Ion-Pascu-53418', '/fighter/David-Mundell-161205', '/fighter/Dustin-CollinsMiles-237891', '/fighter/Paul-Daley-4270', '/fighter/Nick-Barnes-79934', '/fighter/Yancy-Medeiros-27738', '/fighter/Nordine-Taleb-26261', '/fighter/Josh-Koscheck-9418', '/fighter/Matt-Brown-14310', '/fighter/Dong-Hyun-Kim-16374', '/fighter/Jon-Fitch-4865', '/fighter/Carlo-Prater-6767', '/fighter/Francisco-Ayon-17502', '/fighter/Jose-de-Ribamar-Machado-Gomes-25101', '/fighter/Jorge-Luis-Bezerra-17666', '/fighter/Igor-Fernandes-25461', '/fighter/Fabio-Issa-12509', '/fighter/Leandro-Zumbi-20278', '/fighter/Julian-Fabrin-Soares-12305', '/fighter/Jordan-Mein-6749', '/fighter/Luan-Chagas-113505', '/fighter/Neil-Magny-69166', '/fighter/Mike-Rhodes-87296', '/fighter/Takenori-Sato-12196', '/fighter/Jason-High-14185', '/fighter/Charlie-Brenneman-23403', '/fighter/Luis-Ramos-3217', '/fighter/Gil-de-Freitas-16308', '/fighter/Henrique-Gomes-de-Oliveira-35750', '/fighter/Carlos-Villamor-33764', '/fighter/Carlos-Eduardo-Santos-8930', '/fighter/Mario-Neto-76614', '/fighter/Henrique-Lango-2318', '/fighter/Fabiano-Mastodonte-16066', '/fighter/Nathan-Oliveira-182697', '/fighter/Roberto-Soldic-180781', '/fighter/Maxim-Konovalov-202919', '/fighter/Diego-Gonzalez-6001', '/fighter/Avtandil-Gachechiladze-190717', '/fighter/Boris-Selanov-175737', '/fighter/Aleksey-Nimirovich-175733', '/fighter/Valeri-Shpak-110981', '/fighter/Vitaliy-Matornika-115137', '/fighter/Vitaliy-Maystrenko-104913', '/fighter/David-Rickels-36198', '/fighter/Gerald-Harris-17903', '/fighter/Diogo-Cavalcanti-72804', '/fighter/Khasanbek-Abdulaev-219187', '/fighter/Islam-Berzegov-209209', '/fighter/Ravil-Risaev-194823', '/fighter/Oleg-Olenichev-148009', '/fighter/Aydin-Aikhan-178029', '/fighter/Andrei-Shalavai-130663', '/fighter/Vadim-Sandulskiy-85135', '/fighter/Artiom-Cula-101431', '/fighter/Ed-Ruth-197807', '/fighter/Erick-Silva-15009', '/fighter/Nathan-Oliveira-182697', '/fighter/Roberto-Soldic-180781', '/fighter/Maxim-Konovalov-202919', '/fighter/Diego-Gonzalez-6001', '/fighter/Avtandil-Gachechiladze-190717', '/fighter/Boris-Selanov-175737', '/fighter/Aleksey-Nimirovich-175733', '/fighter/Valeri-Shpak-110981', '/fighter/Vitaliy-Matornika-115137', '/fighter/Vitaliy-Maystrenko-104913', '/fighter/David-Rickels-36198', '/fighter/Gerald-Harris-17903', '/fighter/Diogo-Cavalcanti-72804', '/fighter/Khasanbek-Abdulaev-219187', '/fighter/Islam-Berzegov-209209', '/fighter/Ravil-Risaev-194823', '/fighter/Oleg-Olenichev-148009', '/fighter/Aydin-Aikhan-178029', '/fighter/Andrei-Shalavai-130663', '/fighter/Vadim-Sandulskiy-85135', '/fighter/Artiom-Cula-101431', '/fighter/Yaroslav-Amosov-104911', '/fighter/Kiichi-Kunimoto-21039', '/fighter/Andy-Murad-8197', '/fighter/Chris-Dempsey-79277', '/fighter/Emanuele-Palombi-199703', '/fighter/Jason-Jackson-48171', '/fighter/Neiman-Gracie-143527', '/fighter/Ion-Pascu-53418', '/fighter/David-Mundell-161205', '/fighter/Dustin-CollinsMiles-237891', '/fighter/Erick-Silva-15009', '/fighter/Nathan-Oliveira-182697', '/fighter/Roberto-Soldic-180781', '/fighter/Maxim-Konovalov-202919', '/fighter/Diego-Gonzalez-6001', '/fighter/Avtandil-Gachechiladze-190717', '/fighter/Boris-Selanov-175737', '/fighter/Aleksey-Nimirovich-175733', '/fighter/Valeri-Shpak-110981', '/fighter/Vitaliy-Matornika-115137', '/fighter/Vitaliy-Maystrenko-104913', '/fighter/David-Rickels-36198', '/fighter/Gerald-Harris-17903', '/fighter/Diogo-Cavalcanti-72804', '/fighter/Khasanbek-Abdulaev-219187', '/fighter/Islam-Berzegov-209209', '/fighter/Ravil-Risaev-194823', '/fighter/Oleg-Olenichev-148009', '/fighter/Aydin-Aikhan-178029', '/fighter/Andrei-Shalavai-130663', '/fighter/Vadim-Sandulskiy-85135', '/fighter/Artiom-Cula-101431', '/fighter/Ed-Ruth-197807', '/fighter/Erick-Silva-15009', '/fighter/Nathan-Oliveira-182697', '/fighter/Roberto-Soldic-180781', '/fighter/Maxim-Konovalov-202919', '/fighter/Diego-Gonzalez-6001', '/fighter/Avtandil-Gachechiladze-190717', '/fighter/Boris-Selanov-175737', '/fighter/Aleksey-Nimirovich-175733', '/fighter/Valeri-Shpak-110981', '/fighter/Vitaliy-Matornika-115137', '/fighter/Vitaliy-Maystrenko-104913', '/fighter/David-Rickels-36198', '/fighter/Gerald-Harris-17903', '/fighter/Diogo-Cavalcanti-72804', '/fighter/Khasanbek-Abdulaev-219187', '/fighter/Islam-Berzegov-209209', '/fighter/Ravil-Risaev-194823', '/fighter/Oleg-Olenichev-148009', '/fighter/Aydin-Aikhan-178029', '/fighter/Andrei-Shalavai-130663', '/fighter/Vadim-Sandulskiy-85135', '/fighter/Artiom-Cula-101431', '/fighter/Yaroslav-Amosov-104911', '/fighter/Kiichi-Kunimoto-21039', '/fighter/Andy-Murad-8197', '/fighter/Chris-Dempsey-79277', '/fighter/Emanuele-Palombi-199703', '/fighter/Jason-Jackson-48171', '/fighter/Neiman-Gracie-143527', '/fighter/Ion-Pascu-53418', '/fighter/David-Mundell-161205', '/fighter/Dustin-CollinsMiles-237891', '/fighter/Paul-Daley-4270', '/fighter/Nick-Barnes-79934', '/fighter/Yancy-Medeiros-27738', '/fighter/Nordine-Taleb-26261', '/fighter/Josh-Koscheck-9418', '/fighter/Matt-Brown-14310', '/fighter/Dong-Hyun-Kim-16374', '/fighter/Jon-Fitch-4865', '/fighter/Carlo-Prater-6767', '/fighter/Francisco-Ayon-17502', '/fighter/Jose-de-Ribamar-Machado-Gomes-25101', '/fighter/Jorge-Luis-Bezerra-17666', '/fighter/Igor-Fernandes-25461', '/fighter/Fabio-Issa-12509', '/fighter/Leandro-Zumbi-20278', '/fighter/Julian-Fabrin-Soares-12305', '/fighter/Jordan-Mein-6749', '/fighter/Luan-Chagas-113505', '/fighter/Neil-Magny-69166', '/fighter/Mike-Rhodes-87296', '/fighter/Takenori-Sato-12196', '/fighter/Jason-High-14185', '/fighter/Charlie-Brenneman-23403', '/fighter/Luis-Ramos-3217', '/fighter/Gil-de-Freitas-16308', '/fighter/Henrique-Gomes-de-Oliveira-35750', '/fighter/Carlos-Villamor-33764', '/fighter/Carlos-Eduardo-Santos-8930', '/fighter/Mario-Neto-76614', '/fighter/Henrique-Lango-2318', '/fighter/Fabiano-Mastodonte-16066', '/fighter/Julio-Cesar-Araujo-Fernandes-89587', '/fighter/Marcus-Vinicius-193035', '/fighter/Felipe-Alves-108701', '/fighter/Claudio-Junior-214225', '/fighter/Guilherme-Oliveira-182711', '/fighter/Lucas-Costa-Jesus-205341', '/fighter/Alberto-Antonio-142439', '/fighter/Andre-Morais-251087', '/fighter/Vande-Meneguetti-229549']\n",
      "            Fighter Result            Opponent  \\\n",
      "0   Yaroslav Amosov    win             Ed Ruth   \n",
      "1   Yaroslav Amosov    win         Erick Silva   \n",
      "2   Yaroslav Amosov    win     Nathan Oliveira   \n",
      "3   Yaroslav Amosov    win      Roberto Soldic   \n",
      "4   Yaroslav Amosov    win     Maxim Konovalov   \n",
      "..              ...    ...                 ...   \n",
      "4   Nathan Oliveira    win  Guilherme Oliveira   \n",
      "5   Nathan Oliveira   loss   Lucas Costa Jesus   \n",
      "6   Nathan Oliveira    win     Alberto Antonio   \n",
      "7   Nathan Oliveira    win        Andre Morais   \n",
      "8   Nathan Oliveira    win    Vande Meneguetti   \n",
      "\n",
      "                                          Event             Date  \\\n",
      "0                Bellator 239 - Ruth vs. Amosov  Feb / 21 / 2020   \n",
      "1                  Bellator 216 - MVP vs. Daley  Feb / 16 / 2019   \n",
      "2             Tech-Krep FC - Prime Selection 17  Aug / 18 / 2017   \n",
      "3              Tech-Krep FC - Prime Selection 8  Jun / 18 / 2016   \n",
      "4              Tech-Krep FC - Battle in Siberia  Feb / 12 / 2016   \n",
      "..                                          ...              ...   \n",
      "4              ECC - Eco Combat Championship 11  Oct / 18 / 2014   \n",
      "5                               Nov / 10 / 2018  Nov / 10 / 2018   \n",
      "6   Leoes da Luta Championship - Ibiuna Edition  Nov / 12 / 2017   \n",
      "7                EOF - Evolution of Fighters 18  Apr / 08 / 2017   \n",
      "8            Costa Combat - MMA Costa Combat 23  Jul / 09 / 2016   \n",
      "\n",
      "                           Method Rounds  Time  \n",
      "0            Decision (Unanimous)      3  5:00  \n",
      "1            Decision (Unanimous)      3  5:00  \n",
      "2     Submission (Anaconda Choke)      1  3:20  \n",
      "3                Decision (Split)      3  5:00  \n",
      "4     Submission (Anaconda Choke)      1  2:34  \n",
      "..                            ...    ...   ...  \n",
      "4           Submission (Omoplata)      2  0:50  \n",
      "5   Submission (Rear-Naked Choke)      1  4:39  \n",
      "6                    KO (Punches)      2  0:30  \n",
      "7                   TKO (Punches)      1  2:33  \n",
      "8                   TKO (Punches)      1  3:06  \n",
      "\n",
      "[72 rows x 8 columns]\n"
     ]
    }
   ],
   "source": [
    "print(finishedFighters)\n",
    "print(fullFighterUrls)\n",
    "print(fullFightsData)\n"
   ]
  },
  {
   "cell_type": "code",
   "execution_count": 29,
   "metadata": {},
   "outputs": [
    {
     "name": "stdout",
     "output_type": "stream",
     "text": [
      "575\n"
     ]
    }
   ],
   "source": [
    "print(len(fullFighterUrls))"
   ]
  },
  {
   "cell_type": "code",
   "execution_count": 20,
   "metadata": {},
   "outputs": [
    {
     "name": "stdout",
     "output_type": "stream",
     "text": [
      "lista not empty\n",
      "d\n",
      "['a', 'b', 'c', 'e']\n"
     ]
    }
   ],
   "source": [
    "lista = [\"a\", \"b\", \"c\", \"d\", \"e\"]\n",
    "\n",
    "listb = []\n",
    "\n",
    "b = lista.pop(3)\n",
    "\n",
    "\n",
    "if listb:\n",
    "    print(\"listbnot empty\")\n",
    "    \n",
    "if lista:\n",
    "    print(\"lista not empty\")\n",
    "\n",
    "print(b)\n",
    "print(lista)"
   ]
  },
  {
   "cell_type": "code",
   "execution_count": 13,
   "metadata": {},
   "outputs": [
    {
     "name": "stdout",
     "output_type": "stream",
     "text": [
      "hello\n",
      "Fromt the other side\n",
      "hello\n",
      "Fromt the other side\n",
      "hello\n",
      "Fromt the other side\n",
      "hello\n",
      "Fromt the other side\n"
     ]
    }
   ],
   "source": []
  },
  {
   "cell_type": "code",
   "execution_count": null,
   "metadata": {},
   "outputs": [],
   "source": [
    "fighterUrls"
   ]
  },
  {
   "cell_type": "code",
   "execution_count": null,
   "metadata": {},
   "outputs": [],
   "source": [
    "mydict = {\"Result\" : result,\n",
    "                   \"Opponent\" : opponent,\n",
    "                   \"Event\" : event,\n",
    "                   \"Date\" : date,\n",
    "                   \"Method\" : method,\n",
    "                   \"Rounds\" : rounds,\n",
    "                   \"Time\": time}\n",
    "\n",
    "print(mydict)"
   ]
  },
  {
   "cell_type": "code",
   "execution_count": null,
   "metadata": {},
   "outputs": [],
   "source": []
  },
  {
   "cell_type": "code",
   "execution_count": null,
   "metadata": {},
   "outputs": [],
   "source": []
  },
  {
   "cell_type": "code",
   "execution_count": null,
   "metadata": {},
   "outputs": [],
   "source": [
    "# first_movie = movie_containers[0]\n",
    "\n",
    "# firstMovieTitle = first_movie.h3.a.text\n",
    "\n",
    "# print(firstMovieTitle)\n",
    "\n",
    "# firstMovieYear = first_movie.h3.find('span', class_ = 'lister-item-year text-muted unbold').text\n",
    "\n",
    "# print(firstMovieYear)\n",
    "\n",
    "\n",
    "# firstMovieRating = first_movie.strong.text\n",
    "\n",
    "# print(firstMovieRating)\n",
    "\n",
    "\n",
    "# firstMovieVotes = first_movie.find(\"span\", class_ = \"sort-num_votes-visible\").find()\n",
    "\n",
    "# print(firstMovieVotes)"
   ]
  },
  {
   "cell_type": "code",
   "execution_count": null,
   "metadata": {},
   "outputs": [],
   "source": [
    "print"
   ]
  }
 ],
 "metadata": {
  "kernelspec": {
   "display_name": "Python 3",
   "language": "python",
   "name": "python3"
  },
  "language_info": {
   "codemirror_mode": {
    "name": "ipython",
    "version": 3
   },
   "file_extension": ".py",
   "mimetype": "text/x-python",
   "name": "python",
   "nbconvert_exporter": "python",
   "pygments_lexer": "ipython3",
   "version": "3.7.7"
  }
 },
 "nbformat": 4,
 "nbformat_minor": 4
}
